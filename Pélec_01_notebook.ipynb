{
 "cells": [
  {
   "cell_type": "code",
   "execution_count": 1,
   "metadata": {},
   "outputs": [],
   "source": [
    "import wget\n",
    "import pandas as pd"
   ]
  },
  {
   "cell_type": "code",
   "execution_count": null,
   "metadata": {},
   "outputs": [],
   "source": [
    "write_data = False\n",
    "\n",
    "# True : création d'un dossier Figures et Tableau\n",
    "# dans lesquels seront créés les éléments qui serviront à la présentation\n",
    "# et écriture des figures et tableaux dans ces dossier\n",
    "#\n",
    "# False : pas de création de dossier ni de figures ni de tableaux\n",
    "\n",
    "if write_data is True:\n",
    "    try:\n",
    "        os.mkdir('./Figures/')\n",
    "    except OSError as error:\n",
    "        print(error)\n",
    "    try:\n",
    "        os.mkdir('./Tableaux/')\n",
    "    except OSError as error:\n",
    "        print(error)\n",
    "else:\n",
    "    print(\"\"\"Visualisation uniquement dans le notebook\n",
    "    pas de création de figures ni de tableaux\"\"\")"
   ]
  },
  {
   "cell_type": "code",
   "execution_count": null,
   "metadata": {},
   "outputs": [],
   "source": [
    "if write_data is True:\n",
    "    import wget\n",
    "    if os.path.exists('BEB2015.csv'):\n",
    "        print(\"Le jeu de données est déjà présent dans le répertoire\")\n",
    "    else:\n",
    "        wget.download(\"https://data.seattle.gov/api/views/h7rm-fz6m/rows.csv\", out='BEB2015.csv')"
   ]
  },
  {
   "cell_type": "code",
   "execution_count": null,
   "metadata": {},
   "outputs": [],
   "source": [
    "# ouverture du fichire csv\n",
    "# utilise le fichier dans le répertoire si il existe\n",
    "# sinon récupération avec l'url\n",
    "if os.path.exists('BEB2015.csv'):\n",
    "    BEB2015 = pd.read_csv(\n",
    "        'BEB2015.csv',\n",
    "        #sep='\\t',  # séparateurs = tabulations\n",
    "        #low_memory=False\n",
    "        )\n",
    "else:\n",
    "    BEB2015 = pd.read_csv(\n",
    "        \"https://data.seattle.gov/api/views/h7rm-fz6m/rows.csv\",\n",
    "        #sep='\\t',  # séparateurs = tabulations\n",
    "        #low_memory=False\n",
    "        )"
   ]
  }
 ],
 "metadata": {
  "interpreter": {
   "hash": "933725e563a73f4edd728648b243f2ad85036e0b42996bd982d75b8a9d36b10b"
  },
  "kernelspec": {
   "display_name": "Python 3.9.7 64-bit ('PyDS': venv)",
   "name": "python3"
  },
  "language_info": {
   "codemirror_mode": {
    "name": "ipython",
    "version": 3
   },
   "file_extension": ".py",
   "mimetype": "text/x-python",
   "name": "python",
   "nbconvert_exporter": "python",
   "pygments_lexer": "ipython3",
   "version": "3.9.8"
  },
  "orig_nbformat": 4
 },
 "nbformat": 4,
 "nbformat_minor": 2
}
